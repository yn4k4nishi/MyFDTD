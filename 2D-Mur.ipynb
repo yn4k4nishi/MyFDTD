{
 "cells": [
  {
   "cell_type": "markdown",
   "metadata": {},
   "source": [
    "# 解析モデル\n",
    "![](img/2d-mur/model.png)"
   ]
  }
 ],
 "metadata": {
  "interpreter": {
   "hash": "f0bb85417b5baaa3f96a0b8a7fe86de5836abf1ea444a8d9830f05ab60de60ad"
  },
  "kernelspec": {
   "display_name": "Python 3.8.10 ('.venv': venv)",
   "language": "python",
   "name": "python3"
  },
  "language_info": {
   "name": "python",
   "version": "3.8.10"
  },
  "orig_nbformat": 4
 },
 "nbformat": 4,
 "nbformat_minor": 2
}
