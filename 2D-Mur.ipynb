{
 "cells": [
  {
   "cell_type": "markdown",
   "metadata": {},
   "source": [
    "# 解析モデル\n",
    "![](img/2d-mur/model.png)"
   ]
  },
  {
   "cell_type": "markdown",
   "metadata": {},
   "source": [
    "# 各種パラメータ"
   ]
  },
  {
   "cell_type": "code",
   "execution_count": 13,
   "metadata": {},
   "outputs": [
    {
     "name": "stdout",
     "output_type": "stream",
     "text": [
      "mkdir: cannot create directory ‘result’: File exists\n",
      "rm: cannot remove 'result/*.png': No such file or directory\n",
      "mkdir: cannot create directory ‘img/2d-mur’: File exists\n"
     ]
    }
   ],
   "source": [
    "%mkdir result\n",
    "%rm result/*.png\n",
    "%mkdir img/2d-mur\n",
    "\n",
    "import numpy as np\n",
    "\n",
    "# 解析領域の分割数\n",
    "nx = 120\n",
    "ny = 120 \n",
    "\n",
    "nstep = 2000 # 計算ステップ総数\n",
    "\n",
    "# セルサイズ\n",
    "dx = 0.005\n",
    "dy = 0.005\n",
    "\n",
    "# 電界\n",
    "ex = np.zeros((nx, ny))\n",
    "ey = np.zeros((nx, ny))\n",
    "ez = np.zeros((nx, ny))\n",
    "\n",
    "# 磁界\n",
    "hx = np.zeros((nx, ny))\n",
    "hy = np.zeros((nx, ny))\n",
    "hz = np.zeros((nx, ny))\n",
    "\n",
    "# 係数\n",
    "aex  = np.zeros((nx, ny))\n",
    "aey  = np.zeros((nx, ny))\n",
    "aez  = np.zeros((nx, ny))\n",
    "bexy = np.zeros((nx, ny))\n",
    "beyx = np.zeros((nx, ny))\n",
    "bezx = np.zeros((nx, ny))\n",
    "bezy = np.zeros((nx, ny))\n",
    "amx  = np.zeros((nx, ny))\n",
    "amy  = np.zeros((nx, ny))\n",
    "amz  = np.zeros((nx, ny))\n",
    "bmxy = np.zeros((nx, ny))\n",
    "bmyx = np.zeros((nx, ny))\n",
    "bmzx = np.zeros((nx, ny))\n",
    "bmzy = np.zeros((nx, ny))\n",
    "\n",
    "# 媒質定数\n",
    "epsbk  = 1 # 背景媒質\n",
    "mubk   = 1\n",
    "sigebk = 0\n",
    "sigmbk = 0\n",
    "epsd  = np.full((nx+1, ny+1), epsbk ) # 比誘電率\n",
    "sgmed = np.full((nx+1, ny+1), sigebk) # 導電率\n",
    "mud   = np.full((nx+1, ny+1), mubk  ) # 比透磁率\n",
    "sgmmd = np.full((nx+1, ny+1), sigmbk) # 磁気伝導率\n",
    "\n",
    "# 誘電体\n",
    "ic   = int(nx/2) # 中心\n",
    "jc   = int(ny/2)\n",
    "lx2  = 20        # 長さ\n",
    "ly2  = 20\n",
    "epsr = 3         # 比誘電率\n",
    "\n",
    "# 電流源\n",
    "duration = 0.1e-9         # パルス幅\n",
    "t0       = 4.0 * duration # ピーク時刻\n",
    "ifed = ic - lx2 - 20      # 給電位置\n",
    "jfed = jc\n",
    "\n",
    "# 自由空間\n",
    "eps0 = 8.854188e-12\n",
    "mu0  = 1.256637e-6\n",
    "c    = 2.9979246e8\n",
    "\n"
   ]
  },
  {
   "cell_type": "markdown",
   "metadata": {},
   "source": [
    "# 初期化"
   ]
  },
  {
   "cell_type": "code",
   "execution_count": 17,
   "metadata": {},
   "outputs": [],
   "source": [
    "t = 0\n",
    "v  = c / np.sqrt(epsbk*mubk)\n",
    "dt = 0.99999 / ( v * np.sqrt(1/(dx**2) + 1/(dy**2)) )\n",
    "\n",
    "# 誘電体中の媒質定数\n",
    "for j in range(jc - ly2, jc + ly2):\n",
    "    for i in range(ic - lx2, ic + lx2):\n",
    "        epsd[i][j]  = epsr\n",
    "        mud[i][j]   = 1\n",
    "        sgmed[i][j] = 0\n",
    "        sgmmd[i][j] = 0\n",
    "\n",
    "epsz  = (epsd[ifed][jfed] + epsd[ifed-1][jfed] + epsd[ifed][jfed-1] + epsd[ifed-1][jfed-1])/4 * eps0\n",
    "befed = dt / epsz # 電流源の係数 \n",
    "\n",
    "for j in range(ny):\n",
    "    for i in range(nx):\n",
    "        epsx = (epsd[i][j]  + epsd[i][j-1] )/2 * eps0\n",
    "        sgex = (sgmed[i][j] + sgmed[i][j-1])/2    \n",
    "        a = sgex /2 *dt / epsx\n",
    "        aex[i][j]  = (1 - a)/(1 + a)\n",
    "        beyx[i][j] = dt / epsx / (1 + a) /dy\n",
    "\n",
    "        epsy = (epsd[i][j]  + epsd[i-1][j] )/2 * eps0\n",
    "        sgey = (sgmed[i][j] + sgmed[i-1][j])/2\n",
    "        a = sgey /2 *dt /epsy\n",
    "        aey[i][j]  = (1 - a)/(1 + a)\n",
    "        bexy[i][j] = dt / epsy / (1 + a) / dx\n",
    "\n",
    "        epsz = (epsd[i][j]  + epsd[i-1][j]  + epsd[i][j-1]  + epsd[i-1][j-1] )/4 * eps0\n",
    "        sgez = (sgmed[i][j] + sgmed[i-1][j] + sgmed[i][j-1] + sgmed[i-1][j-1])/4\n",
    "        a = sgez /2 *dt /epsy\n",
    "        aez[i][j]  = (1 - a)/(1 + a)\n",
    "        bezy[i][j] = dt / epsz / (1 + a) / dy\n",
    "        bezx[i][j] = dt / epsz / (1 + a) / dx\n",
    "\n",
    "        mux = (mud[i][j]    + mud[i-1][j]  )/2 * mu0\n",
    "        sgmx = (sgmmd[i][j] + sgmmd[i-1][j])/2\n",
    "        a = sgmx /2 *dt / mux\n",
    "        amx[i][j]  = (1 - a)/(1 + a)\n",
    "        bmxy[i][j] = dt / mux / (1 + a) / dy\n",
    "\n",
    "        muy = (mud[i][j] + mud[i][j-1])/2 * mu0\n",
    "        sgmy = (sgmmd[i][j] + sgmmd[i][j-1])/2\n",
    "        a = sgmy /2 *dt /muy\n",
    "        amy[i][j]  = (1 - a)/(1 + a)\n",
    "        bmyx[i][j] = dt / muy / (1 + a) / dx\n",
    "\n",
    "        muz = mud[i][j] * mu0\n",
    "        sgmz = sgmmd[i][j]\n",
    "        a = sgmz /2 *dt /muz\n",
    "        amz[i][j]  = (1 - a)/(1 + a)\n",
    "        bmzx[i][j] = dt / muz / (1 + a) / dx\n",
    "        bmzy[i][j] = dt / muz / (1 + a) / dy\n",
    "    \n",
    "\n"
   ]
  },
  {
   "cell_type": "markdown",
   "metadata": {},
   "source": [
    "# 電流源"
   ]
  },
  {
   "cell_type": "code",
   "execution_count": 18,
   "metadata": {},
   "outputs": [],
   "source": [
    "def feed():\n",
    "    iz = np.exp(-((t - 0.5*dt - t0)/duration)**2)\n",
    "    ez[ifed][jfed] -= befed * iz/(dx*dy)"
   ]
  },
  {
   "cell_type": "markdown",
   "metadata": {},
   "source": [
    "# 電磁界の計算"
   ]
  },
  {
   "cell_type": "code",
   "execution_count": 20,
   "metadata": {},
   "outputs": [],
   "source": [
    "def e_cal():\n",
    "    # Ex\n",
    "    for j in range(1, ny-1):\n",
    "        for i in range(0, nx-1):\n",
    "            ex[i][j] = aex[i][j] * ex[i][j] + bexy[i][j] * (hz[i][j] - hz[i][j-1])\n",
    "    \n",
    "    # Ey\n",
    "    for j in range(0, ny-1):\n",
    "        for i in range(1, nx-1):\n",
    "            ey[i][j] = aey[i][j] * ey[i][j] + beyx[i][j] * (hz[i][j] - hz[i-1][j])\n",
    "\n",
    "    # Ez\n",
    "    for j in range(1, ny-1):\n",
    "        for i in range(1, nx-1):\n",
    "            ez[i][j] = aez[i][j] * ez[i][j] + bezx[i][j] * (hy[i][j] - hy[i-1][j]) - bezy[i][j] * (hx[i][j] - hx[i][j-1])\n",
    "\n",
    "def h_cal():\n",
    "    # Hx\n",
    "    for j in range(1, ny-1):\n",
    "        for i in range(0, nx-1):\n",
    "            hx[i][j] = amx[i][j] * hx[i][j] + bmxy[i][j] * (ez[i][j+1] - ez[i][j])\n",
    "    \n",
    "    # Hy\n",
    "    for j in range(0, ny-1):\n",
    "        for i in range(1, nx-1):\n",
    "            hy[i][j] = amy[i][j] * hy[i][j] + bmyx[i][j] * (ez[i+1][j] - ez[i][j])\n",
    "\n",
    "    # Hz\n",
    "    for j in range(1, ny-1):\n",
    "        for i in range(1, nx-1):\n",
    "            hz[i][j] = amz[i][j] * hz[i][j] - bmzx[i][j] * (ey[i+1][j] - ey[i][j]) + bmzy[i][j] * (ex[i][j+1] - ex[i][j])\n",
    "\n"
   ]
  },
  {
   "cell_type": "markdown",
   "metadata": {},
   "source": [
    "# 吸収境界条件"
   ]
  },
  {
   "cell_type": "code",
   "execution_count": null,
   "metadata": {},
   "outputs": [],
   "source": []
  }
 ],
 "metadata": {
  "interpreter": {
   "hash": "f0bb85417b5baaa3f96a0b8a7fe86de5836abf1ea444a8d9830f05ab60de60ad"
  },
  "kernelspec": {
   "display_name": "Python 3.8.10 ('.venv': venv)",
   "language": "python",
   "name": "python3"
  },
  "language_info": {
   "codemirror_mode": {
    "name": "ipython",
    "version": 3
   },
   "file_extension": ".py",
   "mimetype": "text/x-python",
   "name": "python",
   "nbconvert_exporter": "python",
   "pygments_lexer": "ipython3",
   "version": "3.8.10"
  },
  "orig_nbformat": 4
 },
 "nbformat": 4,
 "nbformat_minor": 2
}
