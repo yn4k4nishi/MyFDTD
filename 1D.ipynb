{
 "cells": [
  {
   "cell_type": "markdown",
   "metadata": {},
   "source": [
    "# 問題\n",
    "厚さ$d$，透磁率$\\mu_0$の不均質誘電体スラブにパルス平面波が入射する場合を考える．\n",
    "\n",
    "![](img/1D.png)"
   ]
  },
  {
   "cell_type": "markdown",
   "metadata": {},
   "source": [
    "# 環境構築"
   ]
  },
  {
   "cell_type": "code",
   "execution_count": 81,
   "metadata": {},
   "outputs": [
    {
     "name": "stdout",
     "output_type": "stream",
     "text": [
      "Requirement already satisfied: numpy in ./.venv/lib/python3.8/site-packages (1.22.2)\n",
      "Note: you may need to restart the kernel to use updated packages.\n",
      "Requirement already satisfied: matplotlib in ./.venv/lib/python3.8/site-packages (3.5.1)\n",
      "Requirement already satisfied: kiwisolver>=1.0.1 in ./.venv/lib/python3.8/site-packages (from matplotlib) (1.3.2)\n",
      "Requirement already satisfied: fonttools>=4.22.0 in ./.venv/lib/python3.8/site-packages (from matplotlib) (4.29.1)\n",
      "Requirement already satisfied: numpy>=1.17 in ./.venv/lib/python3.8/site-packages (from matplotlib) (1.22.2)\n",
      "Requirement already satisfied: pillow>=6.2.0 in ./.venv/lib/python3.8/site-packages (from matplotlib) (9.0.1)\n",
      "Requirement already satisfied: cycler>=0.10 in ./.venv/lib/python3.8/site-packages (from matplotlib) (0.11.0)\n",
      "Requirement already satisfied: pyparsing>=2.2.1 in ./.venv/lib/python3.8/site-packages (from matplotlib) (3.0.7)\n",
      "Requirement already satisfied: python-dateutil>=2.7 in ./.venv/lib/python3.8/site-packages (from matplotlib) (2.8.2)\n",
      "Requirement already satisfied: packaging>=20.0 in ./.venv/lib/python3.8/site-packages (from matplotlib) (21.3)\n",
      "Requirement already satisfied: six>=1.5 in ./.venv/lib/python3.8/site-packages (from python-dateutil>=2.7->matplotlib) (1.16.0)\n",
      "Note: you may need to restart the kernel to use updated packages.\n",
      "Requirement already satisfied: tqdm in ./.venv/lib/python3.8/site-packages (4.62.3)\n",
      "Note: you may need to restart the kernel to use updated packages.\n",
      "mkdir: cannot create directory ‘result’: File exists\n"
     ]
    }
   ],
   "source": [
    "%pip install numpy\n",
    "import numpy as np\n",
    "\n",
    "%pip install matplotlib\n",
    "import matplotlib.pyplot as plt\n",
    "\n",
    "%pip install tqdm\n",
    "from tqdm import tqdm \n",
    "\n",
    "%mkdir result\n",
    "%rm result/*.png"
   ]
  },
  {
   "cell_type": "markdown",
   "metadata": {},
   "source": [
    "# 各種パラメータの設定"
   ]
  },
  {
   "cell_type": "code",
   "execution_count": 82,
   "metadata": {},
   "outputs": [],
   "source": [
    "# 解析のパラメータ\n",
    "nz    = 1000 # 解析領域の分割数\n",
    "nstep = 2000 # 計算のステップ数\n",
    "\n",
    "# 真空のパラメータ\n",
    "c    = 2.9979246e8   # 光速\n",
    "esp0 = 8.8541878e-12 # 真空の誘電率\n",
    "mu0  = 1.2566371e-6  # 真空の透磁率\n",
    "z0   = 376.73031     # 真空の特性インピーダンス\n",
    "\n",
    "# 誘電体のパラメータ\n",
    "espr = 3.0   # 誘電体の比誘電率\n",
    "d    = 0.1   # 誘電体厚さ[m]\n",
    "nd   = 50    # 誘電体の分割数\n",
    "kd   = nz/2  # 誘電体の左端の位置\n",
    "\n",
    "# 解析のパラメータ\n",
    "dz = d/nd # セルサイズ\n",
    "dt = dz/c  # 時間ステップ"
   ]
  },
  {
   "cell_type": "markdown",
   "metadata": {},
   "source": [
    "# 初期化"
   ]
  },
  {
   "cell_type": "code",
   "execution_count": 83,
   "metadata": {},
   "outputs": [],
   "source": [
    "# 誘電率, 伝導率の初期化\n",
    "espd = np.empty(nz) # 比誘電率\n",
    "sgmd = np.empty(nz) # 伝導率\n",
    "\n",
    "for k in range(nz):\n",
    "    if k < kd or k >= kd+nd: # 真空中\n",
    "        espd[k] = 1.0\n",
    "        sgmd[k] = 0.0\n",
    "    else: # 誘電体中\n",
    "        espd[k] = espr\n",
    "        sgmd[k] = 0.0\n",
    "\n",
    "# 電界，磁界の係数\n",
    "ae = np.empty(nz)\n",
    "be = np.empty(nz)\n",
    "\n",
    "for k in range(nz):\n",
    "    esp = esp0*(espd[k] + espd[k-1])/2\n",
    "    sgm = (sgmd[k] + sgmd[k-1])/2\n",
    "    b = dt / esp\n",
    "    a0 = sgm * b / 2\n",
    "\n",
    "    ae[k] = (1 - a0)/(1 + a0)\n",
    "    be[k] = b/(1 + a0)/dz\n",
    "\n",
    "bm = dt / mu0 / dz"
   ]
  },
  {
   "cell_type": "markdown",
   "metadata": {},
   "source": [
    "入射波形の関数"
   ]
  },
  {
   "cell_type": "code",
   "execution_count": 84,
   "metadata": {},
   "outputs": [],
   "source": [
    "def input_pulse(z, t):\n",
    "    zp = 100 * dz\n",
    "    a  =  20 * dz\n",
    "    return np.exp(-((z - zp - c*t)/a)**2)"
   ]
  },
  {
   "cell_type": "markdown",
   "metadata": {},
   "source": [
    "初期化の続き"
   ]
  },
  {
   "cell_type": "code",
   "execution_count": 85,
   "metadata": {},
   "outputs": [],
   "source": [
    "# 電界，磁界の初期化\n",
    "ex = np.empty(nz)\n",
    "hy = np.empty(nz)\n",
    "\n",
    "ex_t = np.zeros(nstep) # 電界の時間応答\n",
    "\n",
    "for k in range(nz):\n",
    "    z = k*dz\n",
    "    ex[k] = input_pulse(z, 0)\n",
    "\n",
    "    z += dz/2\n",
    "    hy[k] = input_pulse(z, dt/2)/z0\n",
    "\n",
    "# 吸収境界上の電界\n",
    "exlold = ex[1]\n",
    "exrold = ex[nz-1]\n",
    "\n",
    "# Murの係数\n",
    "v = c/np.sqrt(espd[0])\n",
    "czl = (v*dt - dz)/(v*dt + dz) # 左端\n",
    "\n",
    "v = c/np.sqrt(espd[nz-1])\n",
    "czr = (v*dt - dz)/(v*dt + dz) # 右端"
   ]
  },
  {
   "cell_type": "markdown",
   "metadata": {},
   "source": [
    "電磁界分布の可視化"
   ]
  },
  {
   "cell_type": "code",
   "execution_count": 86,
   "metadata": {},
   "outputs": [
    {
     "data": {
      "image/png": "[encoded data removed]",
      "text/plain": [
       "<Figure size 432x288 with 2 Axes>"
      ]
     },
     "metadata": {
      "needs_background": "light"
     },
     "output_type": "display_data"
    }
   ],
   "source": [
    "def plot(t, show=False):\n",
    "    plt.figure(figsize=(6,4))\n",
    "    plt.subplot(211)\n",
    "    z = np.linspace(0, nz*dz, nz)\n",
    "    plt.plot(z, ex)\n",
    "    plt.plot([dz*kd,dz*kd]    , [-1.2,1.2], color=\"orange\")\n",
    "    plt.plot([dz*kd+d,dz*kd+d], [-1.2,1.2], color=\"orange\")\n",
    "    plt.ylabel(r'$E_z$')\n",
    "    plt.xlim(0, dz*nz)\n",
    "    plt.ylim(-0.4, 1.2)\n",
    "\n",
    "    plt.subplot(212)\n",
    "    z = np.linspace(dz/2, nz*dz, nz)\n",
    "    plt.plot(z, hy)\n",
    "    plt.plot([dz*kd,dz*kd]    , [-0.02,0.02], color=\"orange\")\n",
    "    plt.plot([dz*kd+d,dz*kd+d], [-0.02,0.02], color=\"orange\")\n",
    "    plt.ylabel(r'$H_y$')\n",
    "    plt.xlim(0, dz*nz)\n",
    "    plt.ylim(-0.002, 0.004)\n",
    "\n",
    "    plt.savefig(\"result/{}.png\".format(t))\n",
    "    if show:\n",
    "        plt.show()\n",
    "    plt.close()\n",
    "\n",
    "plot(1, True)"
   ]
  },
  {
   "cell_type": "markdown",
   "metadata": {},
   "source": [
    "# 電磁界の計算 と Murの一次吸収条件"
   ]
  },
  {
   "cell_type": "code",
   "execution_count": 87,
   "metadata": {},
   "outputs": [],
   "source": [
    "def e_cal():\n",
    "    for k in range(1, nz-1):\n",
    "        ex[k] = ae[k]*ex[k] - be[k]*(hy[k] - hy[k-1])\n",
    "\n",
    "def h_cal():\n",
    "    for k in range(0, nz-1):\n",
    "        hy[k] = hy[k] - bm*(ex[k+1] - ex[k])\n",
    "\n",
    "def mur():\n",
    "    global exlold\n",
    "    global exrold\n",
    "    \n",
    "    ex[0]  = exlold + czl*(ex[1]      - ex[0] ) # 左端\n",
    "    ex[nz-1] = exrold + czr*(ex[nz-2] - ex[nz-1]) # 右端\n",
    "\n",
    "    exlold = ex[1]\n",
    "    exrold = ex[nz-2]"
   ]
  },
  {
   "cell_type": "markdown",
   "metadata": {},
   "source": [
    "# FDTDの計算"
   ]
  },
  {
   "cell_type": "code",
   "execution_count": 88,
   "metadata": {},
   "outputs": [
    {
     "name": "stderr",
     "output_type": "stream",
     "text": [
      "100%|██████████| 1999/1999 [00:49<00:00, 40.58it/s]\n"
     ]
    }
   ],
   "source": [
    "# FDTDの計算\n",
    "t = dt\n",
    "for n in tqdm(range(1, nstep)):\n",
    "    e_cal()\n",
    "    mur()\n",
    "    t += dt/2\n",
    "\n",
    "    h_cal()\n",
    "    t += dt/2\n",
    "    \n",
    "    ex_t[n] = ex[350]\n",
    "\n",
    "    if n%5 == 0:\n",
    "        plot(n)\n"
   ]
  },
  {
   "cell_type": "markdown",
   "metadata": {},
   "source": [
    "# 計算結果\n",
    "電磁界分布のアニメーション"
   ]
  },
  {
   "cell_type": "code",
   "execution_count": 89,
   "metadata": {},
   "outputs": [
    {
     "name": "stdout",
     "output_type": "stream",
     "text": [
      "Requirement already satisfied: Pillow in ./.venv/lib/python3.8/site-packages (9.0.1)\n",
      "Note: you may need to restart the kernel to use updated packages.\n",
      "Requirement already satisfied: natsort in ./.venv/lib/python3.8/site-packages (8.1.0)\n",
      "Note: you may need to restart the kernel to use updated packages.\n"
     ]
    }
   ],
   "source": [
    "%pip install Pillow\n",
    "%pip install natsort\n",
    "\n",
    "from PIL import Image\n",
    "import glob\n",
    "from natsort import natsorted\n",
    "\n",
    "\n",
    "files = natsorted(sorted(glob.glob('result/*.png')))\n",
    "\n",
    "images = list(map(lambda file: Image.open(file), files))\n",
    "\n",
    "images[0].save('img/1D.gif', save_all=True, optimize=False, append_images=images[1:], duration=1, loop=0)\n"
   ]
  },
  {
   "cell_type": "markdown",
   "metadata": {},
   "source": [
    "電界の時間応答"
   ]
  },
  {
   "cell_type": "code",
   "execution_count": 90,
   "metadata": {},
   "outputs": [
    {
     "data": {
      "image/png": "[encoded data removed]",
      "text/plain": [
       "<Figure size 432x288 with 1 Axes>"
      ]
     },
     "metadata": {
      "needs_background": "light"
     },
     "output_type": "display_data"
    }
   ],
   "source": [
    "t = np.linspace(0, nstep*dt * 1e9, nstep)\n",
    "plt.plot(t, ex_t)\n",
    "plt.xlim(0, 7)\n",
    "plt.title(r\"z = {:.4g} m\".format(350*dz))\n",
    "plt.xlabel(\"t [ns]\")\n",
    "plt.ylabel(r\"$E_x$\")\n",
    "plt.savefig(\"img/1D-time-domain.png\")\n",
    "plt.show()"
   ]
  },
  {
   "cell_type": "markdown",
   "metadata": {},
   "source": [
    "t=2.5 ns 前後で，入射波と反射波に分かれる"
   ]
  },
  {
   "cell_type": "code",
   "execution_count": 105,
   "metadata": {},
   "outputs": [
    {
     "data": {
      "image/png": "[encoded data removed]",
      "text/plain": [
       "<Figure size 432x288 with 1 Axes>"
      ]
     },
     "metadata": {
      "needs_background": "light"
     },
     "output_type": "display_data"
    }
   ],
   "source": [
    "ex_in  = ex_t[:450]\n",
    "ex_ref = ex_t[450:850]\n",
    "\n",
    "N = 500\n",
    "\n",
    "F = np.fft.fft(ex_ref)\n",
    "freq = np.fft.fftfreq(N, d=dt) / 1e9\n",
    "amp = np.abs(F/(N/2))\n",
    "\n",
    "plt.plot(freq[1:int(N/2)], amp[1:int(N/2)])\n",
    "plt.xlim(0,10)\n",
    "plt.show()\n"
   ]
  }
 ],
 "metadata": {
  "interpreter": {
   "hash": "f0bb85417b5baaa3f96a0b8a7fe86de5836abf1ea444a8d9830f05ab60de60ad"
  },
  "kernelspec": {
   "display_name": "Python 3.8.10 ('.venv': venv)",
   "language": "python",
   "name": "python3"
  },
  "language_info": {
   "codemirror_mode": {
    "name": "ipython",
    "version": 3
   },
   "file_extension": ".py",
   "mimetype": "text/x-python",
   "name": "python",
   "nbconvert_exporter": "python",
   "pygments_lexer": "ipython3",
   "version": "3.8.10"
  },
  "orig_nbformat": 4
 },
 "nbformat": 4,
 "nbformat_minor": 2
}
