{
 "cells": [
  {
   "cell_type": "markdown",
   "metadata": {},
   "source": [
    "# 問題\n",
    "![](img/1D-PML.png)"
   ]
  },
  {
   "cell_type": "markdown",
   "metadata": {},
   "source": [
    "# 各種パラメータの設定"
   ]
  },
  {
   "cell_type": "code",
   "execution_count": 101,
   "metadata": {},
   "outputs": [],
   "source": [
    "import numpy as np\n",
    "\n",
    "order = 4  # PMLの次数\n",
    "lpml  = 8  # PMLの層数\n",
    "rmax  = -120 # 要求精度[dB]\n",
    "\n",
    "nz0   = 1000         # 解析領域の分割数 \n",
    "nstep = 2000         # 計算領域の分割数\n",
    "nz    = nz0 + 2*lpml # 時間ステップ総数\n",
    "\n",
    "ex = np.zeros(nz) # 電界\n",
    "hy = np.zeros(nz) # 磁界\n",
    "\n",
    "ex_t = np.zeros(nstep) # 時間応答\n",
    "\n",
    "# 係数\n",
    "ae = np.zeros(nz)\n",
    "be = np.zeros(nz)\n",
    "am = np.zeros(nz)\n",
    "bm = np.zeros(nz)\n",
    "\n",
    "# 媒質定数\n",
    "epsd  = np.ones(nz+1)\n",
    "sgmd  = np.zeros(nz+1)\n",
    "mud   = np.ones(nz+1)\n",
    "msgmd = np.zeros(nz+1)\n",
    "\n",
    "# 定数\n",
    "eps0 = 8.8541878e-12\n",
    "mu0  = 1.2566371e-6\n",
    "z0   = 376.73031\n",
    "c    = 2.9979246e8\n",
    "\n",
    "d    = 0.1  # 誘電体層の厚さ[m]\n",
    "nd   = 50   # 誘電体層の分割数\n",
    "dz   = d/nd # セルサイズ\n",
    "epsr = 3.0  # 誘電体層の比誘電率\n",
    "kd   = nz/2 # 誘電体層の左側の位置"
   ]
  },
  {
   "cell_type": "markdown",
   "metadata": {},
   "source": [
    "# 入射パルス"
   ]
  },
  {
   "cell_type": "code",
   "execution_count": 102,
   "metadata": {},
   "outputs": [],
   "source": [
    "def input_pulse(z, tm):\n",
    "    zp = (lpml+100)*dz # パルスの中心位置\n",
    "    a = 20 * dz        # パルス幅\n",
    "    return np.exp(-((z - zp - c*tm)/a)**2)"
   ]
  },
  {
   "cell_type": "markdown",
   "metadata": {},
   "source": [
    "# 初期化"
   ]
  },
  {
   "cell_type": "code",
   "execution_count": 103,
   "metadata": {},
   "outputs": [],
   "source": [
    "for k in range(-1,nz-2):\n",
    "    if kd < k and k <= kd+nd: # 真空領域\n",
    "        epsd[k]  = epsr\n",
    "        sgmd[k]  = 0.0\n",
    "        mud[k]   = 1.0\n",
    "        msgmd[k] = 0.0\n",
    "    else : # 誘電体層\n",
    "        epsd[k]  = 1.0\n",
    "        sgmd[k]  = 0.0\n",
    "        mud[k]   = 1.0\n",
    "        msgmd[k] = 0.0\n",
    "\n",
    "dt = 0.9*dz/c # 時間ステップ\n",
    "for k in range(0, nz-1):\n",
    "    # セル表面の媒質定数は両面の平均\n",
    "    eps = 0.5 * (epsd[k] + epsd[k-1])*eps0\n",
    "    sgm = 0.5 * (sgmd[k] + sgmd[k-1])\n",
    "\n",
    "    b  = dt/eps\n",
    "    a0 = 0.5 * sgm * b\n",
    "    ae[k] = (1 - a0)/(1 + a0)\n",
    "    be[k] = b/(1 + a0)/dz\n",
    "\n",
    "    mu = mud[k] * mu0\n",
    "    msgm = msgmd[k]\n",
    "    b = dt/mu\n",
    "    a0 = 0.5*msgm*b\n",
    "    am[k] = (1 - a0)/(1 + a0)\n",
    "    bm[k] = b/(1 + a0)/dz\n",
    "\n",
    "# 電界の初期化\n",
    "for k in range(nz):\n",
    "    z = k*dz\n",
    "    ex[k] = input_pulse(z, 0)\n",
    "\n",
    "# 磁界の初期化\n",
    "for k in range(nz):\n",
    "    z = (k + 0.5)*dz\n",
    "    hy[k] = input_pulse(z, 0.5*dt) / z0"
   ]
  },
  {
   "cell_type": "markdown",
   "metadata": {},
   "source": [
    "電磁界の可視化"
   ]
  },
  {
   "cell_type": "code",
   "execution_count": 104,
   "metadata": {},
   "outputs": [
    {
     "data": {
      "image/png": "[encoded data removed]",
      "text/plain": [
       "<Figure size 432x288 with 2 Axes>"
      ]
     },
     "metadata": {
      "needs_background": "light"
     },
     "output_type": "display_data"
    }
   ],
   "source": [
    "%rm result/*.png\n",
    "\n",
    "import matplotlib.pylab as plt\n",
    "\n",
    "def plot(t, show=False):\n",
    "    plt.figure(figsize=(6,4))\n",
    "    plt.subplot(211)\n",
    "    z = np.linspace(0, nz*dz, nz)\n",
    "    plt.plot(z, ex)\n",
    "    plt.plot([dz*kd,dz*kd]    , [-1.2,1.2], color=\"orange\")\n",
    "    plt.plot([dz*kd+d,dz*kd+d], [-1.2,1.2], color=\"orange\")\n",
    "    plt.plot([lpml*dz,lpml*dz], [-1.2,1.2], color=\"green\")\n",
    "    plt.plot([(nz-lpml)*dz,(nz-lpml)*dz], [-1.2,1.2], color=\"green\")\n",
    "    plt.ylabel(r'$E_z$')\n",
    "    plt.xlim(0, dz*nz)\n",
    "    plt.ylim(-0.4, 1.2)\n",
    "\n",
    "    plt.subplot(212)\n",
    "    z = np.linspace(dz/2, nz*dz, nz)\n",
    "    plt.plot(z, hy)\n",
    "    plt.plot([dz*kd,dz*kd]    , [-0.02,0.02], color=\"orange\")\n",
    "    plt.plot([dz*kd+d,dz*kd+d], [-0.02,0.02], color=\"orange\")\n",
    "    plt.plot([lpml*dz,lpml*dz], [-0.02,0.02], color=\"green\")\n",
    "    plt.plot([(nz-lpml)*dz,(nz-lpml)*dz], [-0.02,0.02], color=\"green\")\n",
    "    plt.ylabel(r'$H_y$')\n",
    "    plt.xlim(0, dz*nz)\n",
    "    plt.ylim(-0.002, 0.004)\n",
    "\n",
    "    plt.savefig(\"result/{}.png\".format(t),  facecolor=\"white\", edgecolor=\"coral\")\n",
    "    if show:\n",
    "        plt.show()\n",
    "    plt.close()\n",
    "\n",
    "plot(1, True)"
   ]
  },
  {
   "cell_type": "markdown",
   "metadata": {},
   "source": [
    "# 電磁界の計算とPML吸収境界"
   ]
  },
  {
   "cell_type": "code",
   "execution_count": 105,
   "metadata": {},
   "outputs": [],
   "source": [
    "def e_cal():\n",
    "    for k in range(1, nz-1):\n",
    "        ex[k] = ae[k] * ex[k] - be[k] * ( hy[k] - hy[k-1] )\n",
    "\n",
    "def h_cal():\n",
    "    for k in range(0, nz-1):\n",
    "        hy[k] = am[k] * hy[k] - bm[k] * ( ex[k+1] - ex[k] )\n",
    "\n",
    "def pmlcoef():\n",
    "    copml = -1.5280063e-4\n",
    "\n",
    "    epslr = epsd[lpml+1]\n",
    "    epsl  = epslr*eps0\n",
    "    epsrr = epsd[nz-lpml-1]\n",
    "    epsr  = epsrr*eps0\n",
    "    mul = mud[lpml+1]*mu0\n",
    "    mur = mud[nz-lpml-1] * mu0\n",
    "\n",
    "    # 真空に対するsigma_maxと係数\n",
    "    smaxOe = copml * rmax * (order+1) / (lpml*dz)\n",
    "\n",
    "    # 左側のPML\n",
    "    for k in range(0, lpml-1):\n",
    "        sgme = ((lpml-k)/lpml)**order * smaxOe * epslr\n",
    "        sgmm = ((lpml-k-0.5)/lpml)**order *smaxOe * epslr\n",
    "        \n",
    "        a0 = 0.5*sgme*dt/epsl\n",
    "        ae[k] = (1 - a0)/(1 + a0)\n",
    "        be[k] = dt/epsl/(1 + a0)/dz\n",
    "\n",
    "        a0 = 0.5*sgmm*dt*epsl\n",
    "        am[k] = (1 - a0)/(1 + a0)\n",
    "        bm[k] = dt/mul/(1 + a0)/dz\n",
    "\n",
    "    # 右側のPML\n",
    "    for k in range(nz-lpml, nz-1):\n",
    "        sgme = ((k-nz+lpml)/lpml)**order * smaxOe * epsrr\n",
    "        sgmm = ((k-nz+lpml+0.5)/lpml)**order * smaxOe * epsrr\n",
    "\n",
    "        a0 = 0.5*sgme*dt/epsr\n",
    "        ae[k] = (1 - a0)/(1 + a0)\n",
    "        be[k] = dt/epsr/(1 + a0)/dz\n",
    "\n",
    "        a0 = 0.5*sgmm*dt/epsr\n",
    "        am[k] = (1 - a0)/(1 + a0)\n",
    "        bm[k] = dt/mur/(1 + a0)/dz\n"
   ]
  },
  {
   "cell_type": "markdown",
   "metadata": {},
   "source": [
    "# FDTDの計算"
   ]
  },
  {
   "cell_type": "code",
   "execution_count": 106,
   "metadata": {},
   "outputs": [
    {
     "name": "stderr",
     "output_type": "stream",
     "text": [
      "100%|██████████| 1999/1999 [00:51<00:00, 38.79it/s]\n"
     ]
    }
   ],
   "source": [
    "from tqdm import tqdm\n",
    "\n",
    "pmlcoef()\n",
    "t = dt\n",
    "for n in tqdm(range(1, nstep)):\n",
    "    e_cal()\n",
    "    t += dt/2\n",
    "\n",
    "    ex_t[n] = ex[int(nz/2)]\n",
    "\n",
    "    h_cal()\n",
    "    t += dt/2\n",
    "\n",
    "    if n%5 == 0:\n",
    "        plot(n)"
   ]
  },
  {
   "cell_type": "code",
   "execution_count": 107,
   "metadata": {},
   "outputs": [
    {
     "name": "stdout",
     "output_type": "stream",
     "text": [
      "Requirement already satisfied: Pillow in ./.venv/lib/python3.8/site-packages (9.0.1)\n",
      "Note: you may need to restart the kernel to use updated packages.\n",
      "Requirement already satisfied: natsort in ./.venv/lib/python3.8/site-packages (8.1.0)\n",
      "Note: you may need to restart the kernel to use updated packages.\n"
     ]
    }
   ],
   "source": [
    "%pip install Pillow\n",
    "%pip install natsort\n",
    "\n",
    "from PIL import Image\n",
    "import glob\n",
    "from natsort import natsorted\n",
    "\n",
    "\n",
    "files = natsorted(sorted(glob.glob('result/*.png')))\n",
    "\n",
    "images = list(map(lambda file: Image.open(file), files))\n",
    "\n",
    "images[0].save('img/1d-pml.gif', save_all=True, optimize=False, append_images=images[1:], duration=1, loop=0)\n"
   ]
  },
  {
   "cell_type": "markdown",
   "metadata": {},
   "source": [
    "電界の時間応答"
   ]
  },
  {
   "cell_type": "code",
   "execution_count": 108,
   "metadata": {},
   "outputs": [
    {
     "name": "stderr",
     "output_type": "stream",
     "text": [
      "/tmp/ipykernel_35963/844213371.py:3: RuntimeWarning: divide by zero encountered in log\n",
      "  plt.plot(t, 10*np.log(ex_t) , label=r\"z = {:.4g} m\".format((nz/2)*dz))\n",
      "/tmp/ipykernel_35963/844213371.py:3: RuntimeWarning: invalid value encountered in log\n",
      "  plt.plot(t, 10*np.log(ex_t) , label=r\"z = {:.4g} m\".format((nz/2)*dz))\n"
     ]
    },
    {
     "data": {
      "image/png": "[encoded data removed]",
      "text/plain": [
       "<Figure size 432x288 with 1 Axes>"
      ]
     },
     "metadata": {
      "needs_background": "light"
     },
     "output_type": "display_data"
    }
   ],
   "source": [
    "t = np.linspace(0, nstep*dt * 1e9, nstep)\n",
    "\n",
    "plt.plot(t, 10*np.log(ex_t) , label=r\"z = {:.4g} m\".format((nz/2)*dz))\n",
    "plt.xlim(0, 20)\n",
    "plt.ylim(rmax, 0)\n",
    "plt.xlabel(\"t [ns]\")\n",
    "plt.ylabel(r\"$E_x$\")\n",
    "plt.legend()\n",
    "\n",
    "plt.savefig(\"img/1D-time-domain.png\", facecolor=\"white\", edgecolor=\"coral\")\n",
    "plt.show()"
   ]
  }
 ],
 "metadata": {
  "interpreter": {
   "hash": "c1944ac5f9f63db26c5402302a074849310f5296d8c962f8f6a1e24ac2c8f897"
  },
  "kernelspec": {
   "display_name": "Python 3.8.10 ('.venv': venv)",
   "language": "python",
   "name": "python3"
  },
  "language_info": {
   "codemirror_mode": {
    "name": "ipython",
    "version": 3
   },
   "file_extension": ".py",
   "mimetype": "text/x-python",
   "name": "python",
   "nbconvert_exporter": "python",
   "pygments_lexer": "ipython3",
   "version": "3.8.10"
  },
  "orig_nbformat": 4
 },
 "nbformat": 4,
 "nbformat_minor": 2
}
